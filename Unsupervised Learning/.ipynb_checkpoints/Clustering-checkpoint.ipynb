{
 "cells": [
  {
   "cell_type": "code",
   "execution_count": 9,
   "id": "4311f18c-8d12-49fd-9b74-7b6608341fb2",
   "metadata": {},
   "outputs": [],
   "source": [
    "from sklearn.feature_extraction import image\n",
    "import matplotlib.pyplot as plt\n",
    "plt.gray()\n",
    "plt.matshow(digits.images[1600])\n",
    "plt.show()\n"
   ]
  },
  {
   "cell_type": "markdown",
   "id": "b84b8cd6-c74d-489c-ae4b-7563674f9425",
   "metadata": {},
   "source": [
    "## Digit Data "
   ]
  },
  {
   "cell_type": "code",
   "execution_count": 20,
   "id": "251a9412-5f1c-49e1-8b7f-462e14b4c0dd",
   "metadata": {},
   "outputs": [],
   "source": [
    "from sklearn.datasets import load_digits"
   ]
  },
  {
   "cell_type": "code",
   "execution_count": null,
   "id": "8db8249e-eea8-41b8-9b95-57f0f7612142",
   "metadata": {},
   "outputs": [],
   "source": [
    "graph = image.img_to_graph(img, mask=mask)"
   ]
  },
  {
   "cell_type": "code",
   "execution_count": null,
   "id": "b985af77-98a1-43cf-a53d-f71fd98ef859",
   "metadata": {},
   "outputs": [],
   "source": []
  },
  {
   "cell_type": "code",
   "execution_count": null,
   "id": "892083d8-1541-47e9-bf42-2fb3c7509e44",
   "metadata": {},
   "outputs": [],
   "source": []
  },
  {
   "cell_type": "code",
   "execution_count": null,
   "id": "cfd2491d-5460-4a02-b813-5e36a14dc337",
   "metadata": {},
   "outputs": [],
   "source": []
  },
  {
   "cell_type": "code",
   "execution_count": null,
   "id": "879f38ea-6efa-4d30-8b6e-3aaf6b1e29bb",
   "metadata": {},
   "outputs": [],
   "source": []
  },
  {
   "cell_type": "code",
   "execution_count": null,
   "id": "7cdfb54a-05ca-4d6c-be7d-fc891ff5e023",
   "metadata": {},
   "outputs": [],
   "source": []
  },
  {
   "cell_type": "markdown",
   "id": "b98c3bb5-d20b-48e2-b21c-7b36412e1f3f",
   "metadata": {},
   "source": [
    "### Data type we need?"
   ]
  },
  {
   "cell_type": "code",
   "execution_count": null,
   "id": "73b0b20c-865b-4320-be1b-c0c5f18f862e",
   "metadata": {},
   "outputs": [],
   "source": []
  },
  {
   "cell_type": "code",
   "execution_count": null,
   "id": "de11e391-6552-4a35-a00c-228e5a842e5e",
   "metadata": {},
   "outputs": [],
   "source": []
  },
  {
   "cell_type": "code",
   "execution_count": null,
   "id": "46d9ed8c-a398-4a27-8cdc-1dbe07087af3",
   "metadata": {},
   "outputs": [],
   "source": []
  },
  {
   "cell_type": "code",
   "execution_count": null,
   "id": "dacc1278-dba5-4e82-89ff-ab578b3be032",
   "metadata": {},
   "outputs": [],
   "source": []
  },
  {
   "cell_type": "markdown",
   "id": "cc49bb82-61dd-408b-aa62-54f974bc716b",
   "metadata": {},
   "source": [
    "### Model: Affinity Propagation"
   ]
  },
  {
   "cell_type": "code",
   "execution_count": null,
   "id": "e1cad410-72fa-4764-a8fb-2561f3103511",
   "metadata": {},
   "outputs": [],
   "source": []
  }
 ],
 "metadata": {
  "kernelspec": {
   "display_name": "Python 3 (ipykernel)",
   "language": "python",
   "name": "python3"
  },
  "language_info": {
   "codemirror_mode": {
    "name": "ipython",
    "version": 3
   },
   "file_extension": ".py",
   "mimetype": "text/x-python",
   "name": "python",
   "nbconvert_exporter": "python",
   "pygments_lexer": "ipython3",
   "version": "3.11.8"
  }
 },
 "nbformat": 4,
 "nbformat_minor": 5
}
