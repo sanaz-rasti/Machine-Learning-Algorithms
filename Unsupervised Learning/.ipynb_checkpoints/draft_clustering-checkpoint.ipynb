{
 "cells": [
  {
   "cell_type": "code",
   "execution_count": 1,
   "id": "592dd5b6-82a6-4966-b6ca-a55319452be6",
   "metadata": {},
   "outputs": [],
   "source": [
    "from sklearn.cluster import KMeans\n",
    "import pandas as pd\n",
    "import numpy as np\n",
    "import matplotlib.pyplot as plt \n",
    "from sklearn.datasets import load_iris, load_diabetes, load_digits, load_linnerud, load_wine\n",
    "from sklearn.metrics import silhouette_score\n",
    "from sklearn.preprocessing import MinMaxScaler"
   ]
  },
  {
   "cell_type": "code",
   "execution_count": null,
   "id": "99cf9637-832d-40fe-89ba-c88d067d313d",
   "metadata": {},
   "outputs": [],
   "source": [
    "# Choose among different datasets, choose the clustering model \n",
    "# Output: plot the pairwise relations between variables, after clustering\n",
    "\n",
    "class clustering:\n",
    "\n",
    "    # Select the dataset\n",
    "    dataset = input(\"\"\"Enter Dataset: \n",
    "                    a) Digits\n",
    "                    b) wine\n",
    "                    c) Diabetes\"\"\") \n",
    "    \n",
    "    if dataset == 'a':\n",
    "        X, y = load_digits(return_X_y=True)\n",
    "    elif dataset == 'b':\n",
    "        X, y = load_wine(return_X_y=True)\n",
    "    elif dataset == 'c':\n",
    "        X, y = load_diabetes(return_X_y=True)\n",
    "\n",
    "    X_train, X_test, y_train, y_test = train_test_split(X, y, test_size=0.15, random_state=1234)\n",
    "    \n",
    "    # KScorer: Auto-select optimal K-means clusters with advanced scoring\n",
    "    ks = KScorer()\n",
    "    labels, centroids, _ = ks.fit_predict(X_train, retall=True)\n",
    "    ks.show()\n",
    "    k = ks.optimal_\n",
    "\n",
    "        \n",
    "    \n",
    "    def __init__(self,*args):\n",
    "        \n",
    "\n",
    "\n",
    "    \n",
    "    def clst(self):\n",
    "\n",
    "        inpt = input('''Choose an option: \n",
    "                a) K-Means\n",
    "                b) \n",
    "                c) \n",
    "                d) ''')\n",
    "\n",
    "    \n",
    "    def plotSNS(self):\n",
    "\n",
    "\n",
    "\n",
    "\n",
    "    "
   ]
  }
 ],
 "metadata": {
  "kernelspec": {
   "display_name": "Python 3 (ipykernel)",
   "language": "python",
   "name": "python3"
  },
  "language_info": {
   "codemirror_mode": {
    "name": "ipython",
    "version": 3
   },
   "file_extension": ".py",
   "mimetype": "text/x-python",
   "name": "python",
   "nbconvert_exporter": "python",
   "pygments_lexer": "ipython3",
   "version": "3.11.8"
  }
 },
 "nbformat": 4,
 "nbformat_minor": 5
}
